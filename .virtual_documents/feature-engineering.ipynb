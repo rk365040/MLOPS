import pandas as pd
from sklearn.preprocessing import  LabelEncoder,MinMaxScaler
from datetime import datetime,date,timezone


customers_df = pd.read_csv("https://raw.githubusercontent.com/manifoldailearning/mlops-with-aws-datascientists/main/Section-13.1-Feature-Store/raw/customers.csv")


customers_df.head()


label_encoder = LabelEncoder()
min_max_scaler = MinMaxScaler()


customers_df.drop(columns = ['name','state'], inplace=True)


customers_df.info()


bins = [18, 30, 40, 50, 60, 70, 90]
labels = ['18-29', '30-39', '40-49', '50-59', '60-69', '70-plus']
customers_df['age_range'] = pd.cut(customers_df['age'], bins, labels=labels, include_lowest=True)


customers_df.head()


df_age_group = pd.get_dummies(customers_df['age_range'],prefix="age", dtype='int')


df_age_group.head()


customers_df = pd.concat([customers_df,df_age_group],axis=1)
customers_df.head()


customers_df.drop(columns=['age','age_range'], inplace=True)


customers_df.head()


customers_df['sex'] = customers_df['sex'].map({"F":0,"M":1})


customers_df.head()


customers_df['is_married'] = customers_df['is_married'].astype('int')


customers_df.head()


customers_df['active_since'] = pd.to_datetime(customers_df['active_since'], format="%Y-%m-%d %H:%M:%S")


customers_df.info()


def get_delta_days(datetime) -> int :
    today = date.today()
    delta = today - datetime.date()
    return delta.days


customers_df['n_days_active'] = customers_df['active_since'].apply(lambda x: get_delta_days(x))


customers_df.head()


customers_df['n_days_active'] = min_max_scaler.fit_transform(customers_df[['n_days_active']])
customers_df.drop("active_since",axis=1, inplace=True)


customers_df.head()


customers_df.to_csv("transformed/customers.csv", index=False)


orders_df = pd.read_csv("https://raw.githubusercontent.com/manifoldailearning/mlops-with-aws-datascientists/main/Section-13.1-Feature-Store/raw/orders.csv")


orders_df.head()


orders_df['purchased_on'] =  pd.to_datetime(orders_df['purchased_on'], format='%Y-%m-%d %H:%M:%S')
orders_df['n_days_since_last_purchase'] = orders_df['purchased_on'].apply(lambda x: get_delta_days(x))


orders_df.head()


orders_df['n_days_since_last_purchase'] = min_max_scaler.fit_transform(orders_df[['n_days_since_last_purchase']])
orders_df.head()


orders_df['purchase_amount'] = min_max_scaler.fit_transform(orders_df[['purchase_amount']])


orders_df.info()


orders_df['is_reordered'].value_counts()


orders_df.head()


orders_df.drop(columns="purchased_on", inplace=True)


orders_df.to_csv("transformed/orders.csv", index=False)



