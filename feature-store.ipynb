{
 "cells": [
  {
   "cell_type": "code",
   "execution_count": 1,
   "id": "38a2629f-9a36-4b86-8a8e-ac944855fdaf",
   "metadata": {},
   "outputs": [],
   "source": [
    "import sagemaker\n",
    "import boto3\n",
    "import sys\n",
    "import pandas as pd\n",
    "import numpy as np \n",
    "import io \n",
    "from sagemaker.session import Session\n",
    "from sagemaker import get_execution_role\n",
    "\n"
   ]
  },
  {
   "cell_type": "code",
   "execution_count": 2,
   "id": "d74a7be3-600b-4b64-97d6-321a0b6554af",
   "metadata": {},
   "outputs": [],
   "source": [
    "prefix = \"aws-mlops-sagemaker\"\n",
    "role = get_execution_role()\n",
    "\n",
    "sagemaker_session = Session() \n",
    "region = sagemaker_session.boto_region_name\n",
    "s3_bucket_name = sagemaker_session.default_bucket()\n"
   ]
  },
  {
   "cell_type": "code",
   "execution_count": 3,
   "id": "4549d7f0-ff21-4f75-999c-ef327c1900cd",
   "metadata": {},
   "outputs": [
    {
     "data": {
      "text/plain": [
       "'us-west-2'"
      ]
     },
     "execution_count": 3,
     "metadata": {},
     "output_type": "execute_result"
    }
   ],
   "source": [
    "region"
   ]
  },
  {
   "cell_type": "code",
   "execution_count": 4,
   "id": "c6b9ccfd-23a4-4d80-b78f-16610a4d1388",
   "metadata": {},
   "outputs": [
    {
     "data": {
      "text/plain": [
       "'sagemaker-us-west-2-975050337104'"
      ]
     },
     "execution_count": 4,
     "metadata": {},
     "output_type": "execute_result"
    }
   ],
   "source": [
    "s3_bucket_name"
   ]
  },
  {
   "cell_type": "code",
   "execution_count": 5,
   "id": "eb8cd60b-dd60-4518-87d3-15507a589922",
   "metadata": {},
   "outputs": [
    {
     "data": {
      "text/plain": [
       "'arn:aws:iam::975050337104:role/service-role/AmazonSageMaker-ExecutionRole-20250401T145569'"
      ]
     },
     "execution_count": 5,
     "metadata": {},
     "output_type": "execute_result"
    }
   ],
   "source": [
    "role"
   ]
  },
  {
   "cell_type": "code",
   "execution_count": 21,
   "id": "61e77ad6-1978-4f30-ada3-3edcffa0a481",
   "metadata": {},
   "outputs": [],
   "source": [
    "# Data \n",
    "customer_data = pd.read_csv(\"transformed/customers.csv\") \n",
    "orders_data = pd.read_csv(\"transformed/orders.csv\")"
   ]
  },
  {
   "cell_type": "code",
   "execution_count": 22,
   "id": "c8982cbe-e249-43cb-9350-53f038df98b4",
   "metadata": {},
   "outputs": [
    {
     "data": {
      "text/html": [
       "<div>\n",
       "<style scoped>\n",
       "    .dataframe tbody tr th:only-of-type {\n",
       "        vertical-align: middle;\n",
       "    }\n",
       "\n",
       "    .dataframe tbody tr th {\n",
       "        vertical-align: top;\n",
       "    }\n",
       "\n",
       "    .dataframe thead th {\n",
       "        text-align: right;\n",
       "    }\n",
       "</style>\n",
       "<table border=\"1\" class=\"dataframe\">\n",
       "  <thead>\n",
       "    <tr style=\"text-align: right;\">\n",
       "      <th></th>\n",
       "      <th>customer_id</th>\n",
       "      <th>sex</th>\n",
       "      <th>is_married</th>\n",
       "      <th>event_time</th>\n",
       "      <th>age_18-29</th>\n",
       "      <th>age_30-39</th>\n",
       "      <th>age_40-49</th>\n",
       "      <th>age_50-59</th>\n",
       "      <th>age_60-69</th>\n",
       "      <th>age_70-plus</th>\n",
       "      <th>n_days_active</th>\n",
       "    </tr>\n",
       "  </thead>\n",
       "  <tbody>\n",
       "    <tr>\n",
       "      <th>0</th>\n",
       "      <td>C1</td>\n",
       "      <td>0</td>\n",
       "      <td>1</td>\n",
       "      <td>2024-05-02T05:39:10.965Z</td>\n",
       "      <td>0</td>\n",
       "      <td>0</td>\n",
       "      <td>0</td>\n",
       "      <td>0</td>\n",
       "      <td>0</td>\n",
       "      <td>1</td>\n",
       "      <td>0.203425</td>\n",
       "    </tr>\n",
       "    <tr>\n",
       "      <th>1</th>\n",
       "      <td>C2</td>\n",
       "      <td>1</td>\n",
       "      <td>1</td>\n",
       "      <td>2024-05-02T05:39:10.966Z</td>\n",
       "      <td>0</td>\n",
       "      <td>0</td>\n",
       "      <td>0</td>\n",
       "      <td>0</td>\n",
       "      <td>0</td>\n",
       "      <td>1</td>\n",
       "      <td>0.859589</td>\n",
       "    </tr>\n",
       "    <tr>\n",
       "      <th>2</th>\n",
       "      <td>C3</td>\n",
       "      <td>1</td>\n",
       "      <td>1</td>\n",
       "      <td>2024-05-02T05:39:10.967Z</td>\n",
       "      <td>0</td>\n",
       "      <td>1</td>\n",
       "      <td>0</td>\n",
       "      <td>0</td>\n",
       "      <td>0</td>\n",
       "      <td>0</td>\n",
       "      <td>0.527397</td>\n",
       "    </tr>\n",
       "    <tr>\n",
       "      <th>3</th>\n",
       "      <td>C4</td>\n",
       "      <td>1</td>\n",
       "      <td>0</td>\n",
       "      <td>2024-05-02T05:39:10.967Z</td>\n",
       "      <td>0</td>\n",
       "      <td>0</td>\n",
       "      <td>0</td>\n",
       "      <td>0</td>\n",
       "      <td>1</td>\n",
       "      <td>0</td>\n",
       "      <td>0.780822</td>\n",
       "    </tr>\n",
       "    <tr>\n",
       "      <th>4</th>\n",
       "      <td>C5</td>\n",
       "      <td>1</td>\n",
       "      <td>0</td>\n",
       "      <td>2024-05-02T05:39:10.968Z</td>\n",
       "      <td>0</td>\n",
       "      <td>0</td>\n",
       "      <td>0</td>\n",
       "      <td>0</td>\n",
       "      <td>1</td>\n",
       "      <td>0</td>\n",
       "      <td>0.691096</td>\n",
       "    </tr>\n",
       "  </tbody>\n",
       "</table>\n",
       "</div>"
      ],
      "text/plain": [
       "  customer_id  sex  is_married  ... age_60-69  age_70-plus  n_days_active\n",
       "0          C1    0           1  ...         0            1       0.203425\n",
       "1          C2    1           1  ...         0            1       0.859589\n",
       "2          C3    1           1  ...         0            0       0.527397\n",
       "3          C4    1           0  ...         1            0       0.780822\n",
       "4          C5    1           0  ...         1            0       0.691096\n",
       "\n",
       "[5 rows x 11 columns]"
      ]
     },
     "execution_count": 22,
     "metadata": {},
     "output_type": "execute_result"
    }
   ],
   "source": [
    "customer_data.head()"
   ]
  },
  {
   "cell_type": "code",
   "execution_count": 23,
   "id": "e3e122f1-4e72-4436-953d-2dbc6d9e93f1",
   "metadata": {},
   "outputs": [
    {
     "data": {
      "text/html": [
       "<div>\n",
       "<style scoped>\n",
       "    .dataframe tbody tr th:only-of-type {\n",
       "        vertical-align: middle;\n",
       "    }\n",
       "\n",
       "    .dataframe tbody tr th {\n",
       "        vertical-align: top;\n",
       "    }\n",
       "\n",
       "    .dataframe thead th {\n",
       "        text-align: right;\n",
       "    }\n",
       "</style>\n",
       "<table border=\"1\" class=\"dataframe\">\n",
       "  <thead>\n",
       "    <tr style=\"text-align: right;\">\n",
       "      <th></th>\n",
       "      <th>order_id</th>\n",
       "      <th>customer_id</th>\n",
       "      <th>product_id</th>\n",
       "      <th>purchase_amount</th>\n",
       "      <th>is_reordered</th>\n",
       "      <th>event_time</th>\n",
       "      <th>n_days_since_last_purchase</th>\n",
       "    </tr>\n",
       "  </thead>\n",
       "  <tbody>\n",
       "    <tr>\n",
       "      <th>0</th>\n",
       "      <td>O1</td>\n",
       "      <td>C9765</td>\n",
       "      <td>P11660</td>\n",
       "      <td>0.572673</td>\n",
       "      <td>0</td>\n",
       "      <td>2024-05-02T05:39:17.172Z</td>\n",
       "      <td>0.273256</td>\n",
       "    </tr>\n",
       "    <tr>\n",
       "      <th>1</th>\n",
       "      <td>O2</td>\n",
       "      <td>C3674</td>\n",
       "      <td>P6868</td>\n",
       "      <td>0.693861</td>\n",
       "      <td>0</td>\n",
       "      <td>2024-05-02T05:39:17.172Z</td>\n",
       "      <td>0.846899</td>\n",
       "    </tr>\n",
       "    <tr>\n",
       "      <th>2</th>\n",
       "      <td>O3</td>\n",
       "      <td>C2139</td>\n",
       "      <td>P4749</td>\n",
       "      <td>0.556139</td>\n",
       "      <td>1</td>\n",
       "      <td>2024-05-02T05:39:17.172Z</td>\n",
       "      <td>0.408915</td>\n",
       "    </tr>\n",
       "    <tr>\n",
       "      <th>3</th>\n",
       "      <td>O4</td>\n",
       "      <td>C7794</td>\n",
       "      <td>P542</td>\n",
       "      <td>0.043069</td>\n",
       "      <td>1</td>\n",
       "      <td>2024-05-02T05:39:17.172Z</td>\n",
       "      <td>0.843023</td>\n",
       "    </tr>\n",
       "    <tr>\n",
       "      <th>4</th>\n",
       "      <td>O5</td>\n",
       "      <td>C2229</td>\n",
       "      <td>P7605</td>\n",
       "      <td>0.463861</td>\n",
       "      <td>1</td>\n",
       "      <td>2024-05-02T05:39:17.172Z</td>\n",
       "      <td>0.265504</td>\n",
       "    </tr>\n",
       "  </tbody>\n",
       "</table>\n",
       "</div>"
      ],
      "text/plain": [
       "  order_id customer_id  ...                event_time  n_days_since_last_purchase\n",
       "0       O1       C9765  ...  2024-05-02T05:39:17.172Z                    0.273256\n",
       "1       O2       C3674  ...  2024-05-02T05:39:17.172Z                    0.846899\n",
       "2       O3       C2139  ...  2024-05-02T05:39:17.172Z                    0.408915\n",
       "3       O4       C7794  ...  2024-05-02T05:39:17.172Z                    0.843023\n",
       "4       O5       C2229  ...  2024-05-02T05:39:17.172Z                    0.265504\n",
       "\n",
       "[5 rows x 7 columns]"
      ]
     },
     "execution_count": 23,
     "metadata": {},
     "output_type": "execute_result"
    }
   ],
   "source": [
    "orders_data.head()"
   ]
  },
  {
   "cell_type": "code",
   "execution_count": 24,
   "id": "caaeabbc-1cc3-4ce0-afee-1915103abdc6",
   "metadata": {},
   "outputs": [],
   "source": [
    "# Create feature group\n",
    "from time import gmtime, strftime, sleep\n",
    "\n",
    "customers_feature_group_name = \"customers-fg-\"+strftime(\"%d-%H-%M-%S\", gmtime()) \n",
    "orders_feature_group_name = \"orders-fg-\"+strftime(\"%d-%H-%M-%S\", gmtime()) "
   ]
  },
  {
   "cell_type": "code",
   "execution_count": 25,
   "id": "d498e1af-c062-49db-89b5-5f081eae48cb",
   "metadata": {},
   "outputs": [
    {
     "data": {
      "text/plain": [
       "'customers-fg-02-04-57-46'"
      ]
     },
     "execution_count": 25,
     "metadata": {},
     "output_type": "execute_result"
    }
   ],
   "source": [
    "customers_feature_group_name"
   ]
  },
  {
   "cell_type": "code",
   "execution_count": 26,
   "id": "75203119-5ab5-4e08-9464-2a9380505faa",
   "metadata": {},
   "outputs": [
    {
     "data": {
      "text/plain": [
       "'orders-fg-02-04-57-46'"
      ]
     },
     "execution_count": 26,
     "metadata": {},
     "output_type": "execute_result"
    }
   ],
   "source": [
    "orders_feature_group_name"
   ]
  },
  {
   "cell_type": "code",
   "execution_count": 27,
   "id": "1ec82518-583a-451e-bb1f-deb74178e633",
   "metadata": {},
   "outputs": [],
   "source": [
    "from sagemaker.feature_store.feature_group import FeatureGroup\n",
    "\n",
    "customers_feature_group = FeatureGroup(name=customers_feature_group_name , \n",
    "                                       sagemaker_session = sagemaker_session)\n",
    "\n",
    "orders_feature_group = FeatureGroup(name=orders_feature_group_name , \n",
    "                                       sagemaker_session = sagemaker_session)"
   ]
  },
  {
   "cell_type": "code",
   "execution_count": 28,
   "id": "3daa66f0-9361-40de-83d6-8031e417b080",
   "metadata": {},
   "outputs": [],
   "source": [
    "record_identifier_feature_name = \"customer_id\""
   ]
  },
  {
   "cell_type": "code",
   "execution_count": 29,
   "id": "bf88c568-c3fb-442c-8626-1bcb40df1ecd",
   "metadata": {},
   "outputs": [
    {
     "name": "stdout",
     "output_type": "stream",
     "text": [
      "<class 'pandas.core.frame.DataFrame'>\n",
      "RangeIndex: 100000 entries, 0 to 99999\n",
      "Data columns (total 7 columns):\n",
      " #   Column                      Non-Null Count   Dtype  \n",
      "---  ------                      --------------   -----  \n",
      " 0   order_id                    100000 non-null  object \n",
      " 1   customer_id                 100000 non-null  object \n",
      " 2   product_id                  100000 non-null  object \n",
      " 3   purchase_amount             100000 non-null  float64\n",
      " 4   is_reordered                100000 non-null  int64  \n",
      " 5   event_time                  100000 non-null  object \n",
      " 6   n_days_since_last_purchase  100000 non-null  float64\n",
      "dtypes: float64(2), int64(1), object(4)\n",
      "memory usage: 5.3+ MB\n"
     ]
    }
   ],
   "source": [
    "orders_data.info()"
   ]
  },
  {
   "cell_type": "code",
   "execution_count": 30,
   "id": "bc558076-2a42-46c5-ad8f-7856c30a7237",
   "metadata": {},
   "outputs": [
    {
     "data": {
      "text/plain": [
       "[FeatureDefinition(feature_name='customer_id', feature_type=<FeatureTypeEnum.STRING: 'String'>, collection_type=None),\n",
       " FeatureDefinition(feature_name='sex', feature_type=<FeatureTypeEnum.INTEGRAL: 'Integral'>, collection_type=None),\n",
       " FeatureDefinition(feature_name='is_married', feature_type=<FeatureTypeEnum.INTEGRAL: 'Integral'>, collection_type=None),\n",
       " FeatureDefinition(feature_name='event_time', feature_type=<FeatureTypeEnum.STRING: 'String'>, collection_type=None),\n",
       " FeatureDefinition(feature_name='age_18-29', feature_type=<FeatureTypeEnum.INTEGRAL: 'Integral'>, collection_type=None),\n",
       " FeatureDefinition(feature_name='age_30-39', feature_type=<FeatureTypeEnum.INTEGRAL: 'Integral'>, collection_type=None),\n",
       " FeatureDefinition(feature_name='age_40-49', feature_type=<FeatureTypeEnum.INTEGRAL: 'Integral'>, collection_type=None),\n",
       " FeatureDefinition(feature_name='age_50-59', feature_type=<FeatureTypeEnum.INTEGRAL: 'Integral'>, collection_type=None),\n",
       " FeatureDefinition(feature_name='age_60-69', feature_type=<FeatureTypeEnum.INTEGRAL: 'Integral'>, collection_type=None),\n",
       " FeatureDefinition(feature_name='age_70-plus', feature_type=<FeatureTypeEnum.INTEGRAL: 'Integral'>, collection_type=None),\n",
       " FeatureDefinition(feature_name='n_days_active', feature_type=<FeatureTypeEnum.FRACTIONAL: 'Fractional'>, collection_type=None)]"
      ]
     },
     "execution_count": 30,
     "metadata": {},
     "output_type": "execute_result"
    }
   ],
   "source": [
    "customers_feature_group.load_feature_definitions(data_frame = customer_data)"
   ]
  },
  {
   "cell_type": "code",
   "execution_count": 31,
   "id": "957cc0bc-f2eb-47d4-945f-9b5134aaec0e",
   "metadata": {},
   "outputs": [
    {
     "data": {
      "text/plain": [
       "[FeatureDefinition(feature_name='order_id', feature_type=<FeatureTypeEnum.STRING: 'String'>, collection_type=None),\n",
       " FeatureDefinition(feature_name='customer_id', feature_type=<FeatureTypeEnum.STRING: 'String'>, collection_type=None),\n",
       " FeatureDefinition(feature_name='product_id', feature_type=<FeatureTypeEnum.STRING: 'String'>, collection_type=None),\n",
       " FeatureDefinition(feature_name='purchase_amount', feature_type=<FeatureTypeEnum.FRACTIONAL: 'Fractional'>, collection_type=None),\n",
       " FeatureDefinition(feature_name='is_reordered', feature_type=<FeatureTypeEnum.INTEGRAL: 'Integral'>, collection_type=None),\n",
       " FeatureDefinition(feature_name='event_time', feature_type=<FeatureTypeEnum.STRING: 'String'>, collection_type=None),\n",
       " FeatureDefinition(feature_name='n_days_since_last_purchase', feature_type=<FeatureTypeEnum.FRACTIONAL: 'Fractional'>, collection_type=None)]"
      ]
     },
     "execution_count": 31,
     "metadata": {},
     "output_type": "execute_result"
    }
   ],
   "source": [
    "# Load Feature definitions\n",
    "orders_feature_group.load_feature_definitions(data_frame = orders_data)"
   ]
  },
  {
   "cell_type": "code",
   "execution_count": null,
   "id": "a6e4602c-1faf-41bf-b930-9eea429406b9",
   "metadata": {},
   "outputs": [],
   "source": []
  },
  {
   "cell_type": "code",
   "execution_count": 32,
   "id": "ea1bf155-ad44-41aa-9771-9cc6612ad189",
   "metadata": {},
   "outputs": [
    {
     "data": {
      "text/plain": [
       "{'FeatureGroupArn': 'arn:aws:sagemaker:us-west-2:975050337104:feature-group/customers-fg-02-04-57-46',\n",
       " 'ResponseMetadata': {'RequestId': '153c5640-6b24-4c96-837b-0161c40776bd',\n",
       "  'HTTPStatusCode': 200,\n",
       "  'HTTPHeaders': {'x-amzn-requestid': '153c5640-6b24-4c96-837b-0161c40776bd',\n",
       "   'content-type': 'application/x-amz-json-1.1',\n",
       "   'content-length': '101',\n",
       "   'date': 'Wed, 02 Apr 2025 04:57:59 GMT'},\n",
       "  'RetryAttempts': 0}}"
      ]
     },
     "execution_count": 32,
     "metadata": {},
     "output_type": "execute_result"
    }
   ],
   "source": [
    "customers_feature_group.create(s3_uri = f\"s3://{s3_bucket_name}/{prefix}\",\n",
    "                               record_identifier_name=record_identifier_feature_name, event_time_feature_name=\"event_time\",\n",
    "                                role_arn=role,\n",
    "                                enable_online_store=True)"
   ]
  },
  {
   "cell_type": "code",
   "execution_count": 33,
   "id": "f5422e05-0b15-49f6-aa86-0ed71732571d",
   "metadata": {},
   "outputs": [
    {
     "data": {
      "text/plain": [
       "{'FeatureGroupArn': 'arn:aws:sagemaker:us-west-2:975050337104:feature-group/orders-fg-02-04-57-46',\n",
       " 'ResponseMetadata': {'RequestId': '26eefb03-25ec-4921-a5ec-9cfa7f6448c6',\n",
       "  'HTTPStatusCode': 200,\n",
       "  'HTTPHeaders': {'x-amzn-requestid': '26eefb03-25ec-4921-a5ec-9cfa7f6448c6',\n",
       "   'content-type': 'application/x-amz-json-1.1',\n",
       "   'content-length': '98',\n",
       "   'date': 'Wed, 02 Apr 2025 04:58:29 GMT'},\n",
       "  'RetryAttempts': 0}}"
      ]
     },
     "execution_count": 33,
     "metadata": {},
     "output_type": "execute_result"
    }
   ],
   "source": [
    "orders_feature_group.create(s3_uri = f\"s3://{s3_bucket_name}/{prefix}\",\n",
    "                               record_identifier_name=record_identifier_feature_name, event_time_feature_name=\"event_time\",\n",
    "                                role_arn=role,\n",
    "                                enable_online_store=True)"
   ]
  },
  {
   "cell_type": "code",
   "execution_count": 34,
   "id": "e4806c76-f80e-4745-abea-968505bae22e",
   "metadata": {},
   "outputs": [
    {
     "data": {
      "text/plain": [
       "{'FeatureGroupArn': 'arn:aws:sagemaker:us-west-2:975050337104:feature-group/customers-fg-02-04-57-46',\n",
       " 'FeatureGroupName': 'customers-fg-02-04-57-46',\n",
       " 'RecordIdentifierFeatureName': 'customer_id',\n",
       " 'EventTimeFeatureName': 'event_time',\n",
       " 'FeatureDefinitions': [{'FeatureName': 'customer_id',\n",
       "   'FeatureType': 'String'},\n",
       "  {'FeatureName': 'sex', 'FeatureType': 'Integral'},\n",
       "  {'FeatureName': 'is_married', 'FeatureType': 'Integral'},\n",
       "  {'FeatureName': 'event_time', 'FeatureType': 'String'},\n",
       "  {'FeatureName': 'age_18-29', 'FeatureType': 'Integral'},\n",
       "  {'FeatureName': 'age_30-39', 'FeatureType': 'Integral'},\n",
       "  {'FeatureName': 'age_40-49', 'FeatureType': 'Integral'},\n",
       "  {'FeatureName': 'age_50-59', 'FeatureType': 'Integral'},\n",
       "  {'FeatureName': 'age_60-69', 'FeatureType': 'Integral'},\n",
       "  {'FeatureName': 'age_70-plus', 'FeatureType': 'Integral'},\n",
       "  {'FeatureName': 'n_days_active', 'FeatureType': 'Fractional'}],\n",
       " 'CreationTime': datetime.datetime(2025, 4, 2, 4, 57, 59, 208000, tzinfo=tzlocal()),\n",
       " 'OnlineStoreConfig': {'EnableOnlineStore': True},\n",
       " 'OfflineStoreConfig': {'S3StorageConfig': {'S3Uri': 's3://sagemaker-us-west-2-975050337104/aws-mlops-sagemaker',\n",
       "   'ResolvedOutputS3Uri': 's3://sagemaker-us-west-2-975050337104/aws-mlops-sagemaker/975050337104/sagemaker/us-west-2/offline-store/customers-fg-02-04-57-46-1743569879/data'},\n",
       "  'DisableGlueTableCreation': False,\n",
       "  'DataCatalogConfig': {'TableName': 'customers_fg_02_04_57_46_1743569879',\n",
       "   'Catalog': 'AwsDataCatalog',\n",
       "   'Database': 'sagemaker_featurestore'}},\n",
       " 'ThroughputConfig': {'ThroughputMode': 'OnDemand'},\n",
       " 'RoleArn': 'arn:aws:iam::975050337104:role/service-role/AmazonSageMaker-ExecutionRole-20250401T145569',\n",
       " 'FeatureGroupStatus': 'Created',\n",
       " 'OnlineStoreTotalSizeBytes': 0,\n",
       " 'ResponseMetadata': {'RequestId': 'bb3faa77-a439-4e3b-a6f7-5acb0e0b9d7d',\n",
       "  'HTTPStatusCode': 200,\n",
       "  'HTTPHeaders': {'x-amzn-requestid': 'bb3faa77-a439-4e3b-a6f7-5acb0e0b9d7d',\n",
       "   'content-type': 'application/x-amz-json-1.1',\n",
       "   'content-length': '1998',\n",
       "   'date': 'Wed, 02 Apr 2025 04:58:41 GMT'},\n",
       "  'RetryAttempts': 0}}"
      ]
     },
     "execution_count": 34,
     "metadata": {},
     "output_type": "execute_result"
    }
   ],
   "source": [
    "customers_feature_group.describe()"
   ]
  },
  {
   "cell_type": "code",
   "execution_count": 35,
   "id": "c8f15ec0-1770-4154-aad4-2a9342ae90f6",
   "metadata": {},
   "outputs": [
    {
     "data": {
      "text/plain": [
       "{'FeatureGroupArn': 'arn:aws:sagemaker:us-west-2:975050337104:feature-group/orders-fg-02-04-57-46',\n",
       " 'FeatureGroupName': 'orders-fg-02-04-57-46',\n",
       " 'RecordIdentifierFeatureName': 'customer_id',\n",
       " 'EventTimeFeatureName': 'event_time',\n",
       " 'FeatureDefinitions': [{'FeatureName': 'order_id', 'FeatureType': 'String'},\n",
       "  {'FeatureName': 'customer_id', 'FeatureType': 'String'},\n",
       "  {'FeatureName': 'product_id', 'FeatureType': 'String'},\n",
       "  {'FeatureName': 'purchase_amount', 'FeatureType': 'Fractional'},\n",
       "  {'FeatureName': 'is_reordered', 'FeatureType': 'Integral'},\n",
       "  {'FeatureName': 'event_time', 'FeatureType': 'String'},\n",
       "  {'FeatureName': 'n_days_since_last_purchase', 'FeatureType': 'Fractional'}],\n",
       " 'CreationTime': datetime.datetime(2025, 4, 2, 4, 58, 29, 417000, tzinfo=tzlocal()),\n",
       " 'OnlineStoreConfig': {'EnableOnlineStore': True},\n",
       " 'OfflineStoreConfig': {'S3StorageConfig': {'S3Uri': 's3://sagemaker-us-west-2-975050337104/aws-mlops-sagemaker',\n",
       "   'ResolvedOutputS3Uri': 's3://sagemaker-us-west-2-975050337104/aws-mlops-sagemaker/975050337104/sagemaker/us-west-2/offline-store/orders-fg-02-04-57-46-1743569909/data'},\n",
       "  'DisableGlueTableCreation': False},\n",
       " 'ThroughputConfig': {'ThroughputMode': 'OnDemand'},\n",
       " 'RoleArn': 'arn:aws:iam::975050337104:role/service-role/AmazonSageMaker-ExecutionRole-20250401T145569',\n",
       " 'FeatureGroupStatus': 'Creating',\n",
       " 'ResponseMetadata': {'RequestId': '93f4170a-ef01-4508-a172-a4e859624513',\n",
       "  'HTTPStatusCode': 200,\n",
       "  'HTTPHeaders': {'x-amzn-requestid': '93f4170a-ef01-4508-a172-a4e859624513',\n",
       "   'content-type': 'application/x-amz-json-1.1',\n",
       "   'content-length': '1606',\n",
       "   'date': 'Wed, 02 Apr 2025 04:58:56 GMT'},\n",
       "  'RetryAttempts': 0}}"
      ]
     },
     "execution_count": 35,
     "metadata": {},
     "output_type": "execute_result"
    }
   ],
   "source": [
    "orders_feature_group.describe() "
   ]
  },
  {
   "cell_type": "code",
   "execution_count": 36,
   "id": "08e9032e-bcf1-4bbc-a74b-e734d99c0d4b",
   "metadata": {},
   "outputs": [
    {
     "data": {
      "text/plain": [
       "{'ResponseMetadata': {'RequestId': 'e6a66869-203f-4c1e-8b30-4b17bce9c22b',\n",
       "  'HTTPStatusCode': 200,\n",
       "  'HTTPHeaders': {'x-amzn-requestid': 'e6a66869-203f-4c1e-8b30-4b17bce9c22b',\n",
       "   'content-type': 'application/x-amz-json-1.1',\n",
       "   'date': 'Wed, 02 Apr 2025 05:03:53 GMT',\n",
       "   'content-length': '0'},\n",
       "  'RetryAttempts': 0}}"
      ]
     },
     "execution_count": 36,
     "metadata": {},
     "output_type": "execute_result"
    }
   ],
   "source": [
    "# Add metadata to a feature\n",
    "# description and parameters\n",
    "\n",
    "from sagemaker.feature_store.inputs import FeatureParameter\n",
    "\n",
    "customers_feature_group.update_feature_metadata(feature_name = \"customer_id\", description= \"The ID of the customer, it is also part of Order feature group\",\n",
    "                                                parameter_additions=[FeatureParameter(\"idType\",\"primarykey\")])"
   ]
  },
  {
   "cell_type": "code",
   "execution_count": 38,
   "id": "b5624736-32f1-423e-b6ad-a1336c463d33",
   "metadata": {},
   "outputs": [
    {
     "data": {
      "text/plain": [
       "{'FeatureGroupArn': 'arn:aws:sagemaker:us-west-2:975050337104:feature-group/customers-fg-02-04-57-46',\n",
       " 'FeatureGroupName': 'customers-fg-02-04-57-46',\n",
       " 'FeatureName': 'customer_id',\n",
       " 'FeatureType': 'String',\n",
       " 'CreationTime': datetime.datetime(2025, 4, 2, 4, 57, 59, 208000, tzinfo=tzlocal()),\n",
       " 'LastModifiedTime': datetime.datetime(2025, 4, 2, 5, 3, 53, 330000, tzinfo=tzlocal()),\n",
       " 'Description': 'The ID of the customer, it is also part of Order feature group',\n",
       " 'Parameters': [{'Key': 'idType', 'Value': 'primarykey'}],\n",
       " 'ResponseMetadata': {'RequestId': '1695d05e-60f1-4ff8-a4f6-c597fc8d38d5',\n",
       "  'HTTPStatusCode': 200,\n",
       "  'HTTPHeaders': {'x-amzn-requestid': '1695d05e-60f1-4ff8-a4f6-c597fc8d38d5',\n",
       "   'content-type': 'application/x-amz-json-1.1',\n",
       "   'content-length': '397',\n",
       "   'date': 'Wed, 02 Apr 2025 05:07:25 GMT'},\n",
       "  'RetryAttempts': 0}}"
      ]
     },
     "execution_count": 38,
     "metadata": {},
     "output_type": "execute_result"
    }
   ],
   "source": [
    "customers_feature_group.describe_feature_metadata(\"customer_id\")"
   ]
  },
  {
   "cell_type": "code",
   "execution_count": 39,
   "id": "03998042-6cc1-4728-8f73-6217ad229c71",
   "metadata": {},
   "outputs": [
    {
     "data": {
      "text/plain": [
       "{'Results': [{'FeatureMetadata': {'FeatureGroupArn': 'arn:aws:sagemaker:us-west-2:975050337104:feature-group/customers-fg-02-04-57-46',\n",
       "    'FeatureGroupName': 'customers-fg-02-04-57-46',\n",
       "    'FeatureName': 'customer_id',\n",
       "    'FeatureType': 'String',\n",
       "    'CreationTime': datetime.datetime(2025, 4, 2, 4, 57, 59, tzinfo=tzlocal()),\n",
       "    'LastModifiedTime': datetime.datetime(2025, 4, 2, 5, 3, 53, tzinfo=tzlocal()),\n",
       "    'Description': 'The ID of the customer, it is also part of Order feature group',\n",
       "    'Parameters': [{'Key': 'idType', 'Value': 'primarykey'}]}}],\n",
       " 'ResponseMetadata': {'RequestId': 'd758b614-7247-424e-8716-9b938b936668',\n",
       "  'HTTPStatusCode': 200,\n",
       "  'HTTPHeaders': {'x-amzn-requestid': 'd758b614-7247-424e-8716-9b938b936668',\n",
       "   'content-type': 'application/x-amz-json-1.1',\n",
       "   'content-length': '507',\n",
       "   'date': 'Wed, 02 Apr 2025 05:07:28 GMT'},\n",
       "  'RetryAttempts': 0}}"
      ]
     },
     "execution_count": 39,
     "metadata": {},
     "output_type": "execute_result"
    }
   ],
   "source": [
    "sagemaker_session.boto_session.client(\"sagemaker\", region_name=region).search(\n",
    "    Resource=\"FeatureMetadata\",\n",
    "    SearchExpression={\n",
    "        \"Filters\":[\n",
    "            {\n",
    "                \"Name\": \"FeatureGroupName\",\n",
    "                \"Operator\": \"Contains\",\n",
    "                \"Value\": \"customers-fg\"\n",
    "            },\n",
    "            {\"Name\": \"Parameters.idType\", \"Operator\": \"Equals\", \"Value\": \"primarykey\"}\n",
    "        ]\n",
    "    })"
   ]
  },
  {
   "cell_type": "code",
   "execution_count": 40,
   "id": "27479743-eb6b-4a79-94d1-de44c05e089c",
   "metadata": {},
   "outputs": [
    {
     "name": "stdout",
     "output_type": "stream",
     "text": [
      "\u001b[2;36m[04/02/25 05:09:38]\u001b[0m\u001b[2;36m \u001b[0m\u001b[1;94mINFO    \u001b[0m Started ingesting index \u001b[1;36m0\u001b[0m to   \u001b]8;id=221168;file:///opt/conda/lib/python3.11/site-packages/sagemaker/feature_store/feature_group.py\u001b\\\u001b[2mfeature_group.py\u001b[0m\u001b]8;;\u001b\\\u001b[2m:\u001b[0m\u001b]8;id=936074;file:///opt/conda/lib/python3.11/site-packages/sagemaker/feature_store/feature_group.py#251\u001b\\\u001b[2m251\u001b[0m\u001b]8;;\u001b\\\n",
      "\u001b[2;36m                    \u001b[0m         \u001b[1;36m3334\u001b[0m                           \u001b[2m                    \u001b[0m\n",
      "\u001b[2;36m                   \u001b[0m\u001b[2;36m \u001b[0m\u001b[1;94mINFO    \u001b[0m Started ingesting index \u001b[1;36m6668\u001b[0m   \u001b]8;id=683837;file:///opt/conda/lib/python3.11/site-packages/sagemaker/feature_store/feature_group.py\u001b\\\u001b[2mfeature_group.py\u001b[0m\u001b]8;;\u001b\\\u001b[2m:\u001b[0m\u001b]8;id=141116;file:///opt/conda/lib/python3.11/site-packages/sagemaker/feature_store/feature_group.py#251\u001b\\\u001b[2m251\u001b[0m\u001b]8;;\u001b\\\n",
      "\u001b[2;36m                    \u001b[0m         to \u001b[1;36m10000\u001b[0m                       \u001b[2m                    \u001b[0m\n",
      "\u001b[2;36m                   \u001b[0m\u001b[2;36m \u001b[0m\u001b[1;94mINFO    \u001b[0m Started ingesting index \u001b[1;36m3334\u001b[0m   \u001b]8;id=261335;file:///opt/conda/lib/python3.11/site-packages/sagemaker/feature_store/feature_group.py\u001b\\\u001b[2mfeature_group.py\u001b[0m\u001b]8;;\u001b\\\u001b[2m:\u001b[0m\u001b]8;id=637036;file:///opt/conda/lib/python3.11/site-packages/sagemaker/feature_store/feature_group.py#251\u001b\\\u001b[2m251\u001b[0m\u001b]8;;\u001b\\\n",
      "\u001b[2;36m                    \u001b[0m         to \u001b[1;36m6668\u001b[0m                        \u001b[2m                    \u001b[0m\n",
      "\u001b[2;36m[04/02/25 05:10:23]\u001b[0m\u001b[2;36m \u001b[0m\u001b[1;94mINFO    \u001b[0m Successfully ingested row \u001b[1;36m3334\u001b[0m \u001b]8;id=780537;file:///opt/conda/lib/python3.11/site-packages/sagemaker/feature_store/feature_group.py\u001b\\\u001b[2mfeature_group.py\u001b[0m\u001b]8;;\u001b\\\u001b[2m:\u001b[0m\u001b]8;id=532426;file:///opt/conda/lib/python3.11/site-packages/sagemaker/feature_store/feature_group.py#578\u001b\\\u001b[2m578\u001b[0m\u001b]8;;\u001b\\\n",
      "\u001b[2;36m                    \u001b[0m         to \u001b[1;36m6668\u001b[0m                        \u001b[2m                    \u001b[0m\n",
      "\u001b[2;36m[04/02/25 05:10:24]\u001b[0m\u001b[2;36m \u001b[0m\u001b[1;94mINFO    \u001b[0m Successfully ingested row \u001b[1;36m6668\u001b[0m \u001b]8;id=888289;file:///opt/conda/lib/python3.11/site-packages/sagemaker/feature_store/feature_group.py\u001b\\\u001b[2mfeature_group.py\u001b[0m\u001b]8;;\u001b\\\u001b[2m:\u001b[0m\u001b]8;id=546031;file:///opt/conda/lib/python3.11/site-packages/sagemaker/feature_store/feature_group.py#578\u001b\\\u001b[2m578\u001b[0m\u001b]8;;\u001b\\\n",
      "\u001b[2;36m                    \u001b[0m         to \u001b[1;36m10000\u001b[0m                       \u001b[2m                    \u001b[0m\n",
      "\u001b[2;36m                   \u001b[0m\u001b[2;36m \u001b[0m\u001b[1;94mINFO    \u001b[0m Successfully ingested row \u001b[1;36m0\u001b[0m to \u001b]8;id=568242;file:///opt/conda/lib/python3.11/site-packages/sagemaker/feature_store/feature_group.py\u001b\\\u001b[2mfeature_group.py\u001b[0m\u001b]8;;\u001b\\\u001b[2m:\u001b[0m\u001b]8;id=127860;file:///opt/conda/lib/python3.11/site-packages/sagemaker/feature_store/feature_group.py#578\u001b\\\u001b[2m578\u001b[0m\u001b]8;;\u001b\\\n",
      "\u001b[2;36m                    \u001b[0m         \u001b[1;36m3334\u001b[0m                           \u001b[2m                    \u001b[0m\n"
     ]
    },
    {
     "data": {
      "text/plain": [
       "IngestionManagerPandas(feature_group_name='customers-fg-02-04-57-46', feature_definitions={'customer_id': {'FeatureName': 'customer_id', 'FeatureType': 'String'}, 'sex': {'FeatureName': 'sex', 'FeatureType': 'Integral'}, 'is_married': {'FeatureName': 'is_married', 'FeatureType': 'Integral'}, 'event_time': {'FeatureName': 'event_time', 'FeatureType': 'String'}, 'age_18-29': {'FeatureName': 'age_18-29', 'FeatureType': 'Integral'}, 'age_30-39': {'FeatureName': 'age_30-39', 'FeatureType': 'Integral'}, 'age_40-49': {'FeatureName': 'age_40-49', 'FeatureType': 'Integral'}, 'age_50-59': {'FeatureName': 'age_50-59', 'FeatureType': 'Integral'}, 'age_60-69': {'FeatureName': 'age_60-69', 'FeatureType': 'Integral'}, 'age_70-plus': {'FeatureName': 'age_70-plus', 'FeatureType': 'Integral'}, 'n_days_active': {'FeatureName': 'n_days_active', 'FeatureType': 'Fractional'}}, sagemaker_fs_runtime_client_config=<botocore.config.Config object at 0x7f434df27a50>, sagemaker_session=<sagemaker.session.Session object at 0x7f43506e6390>, max_workers=3, max_processes=1, profile_name=None, _async_result=<multiprocess.pool.MapResult object at 0x7f434f7fe190>, _processing_pool=<pool ProcessPool(ncpus=1)>, _failed_indices=[])"
      ]
     },
     "execution_count": 40,
     "metadata": {},
     "output_type": "execute_result"
    }
   ],
   "source": [
    "customers_feature_group.ingest(data_frame = customer_data, max_workers=3,wait=True)"
   ]
  },
  {
   "cell_type": "code",
   "execution_count": 41,
   "id": "9508f48b-1ccb-44c3-9ec2-50f6389d6526",
   "metadata": {},
   "outputs": [
    {
     "name": "stdout",
     "output_type": "stream",
     "text": [
      "\u001b[2;36m[04/02/25 05:10:35]\u001b[0m\u001b[2;36m \u001b[0m\u001b[1;94mINFO    \u001b[0m Started ingesting index \u001b[1;36m66668\u001b[0m  \u001b]8;id=940576;file:///opt/conda/lib/python3.11/site-packages/sagemaker/feature_store/feature_group.py\u001b\\\u001b[2mfeature_group.py\u001b[0m\u001b]8;;\u001b\\\u001b[2m:\u001b[0m\u001b]8;id=888813;file:///opt/conda/lib/python3.11/site-packages/sagemaker/feature_store/feature_group.py#251\u001b\\\u001b[2m251\u001b[0m\u001b]8;;\u001b\\\n",
      "\u001b[2;36m                    \u001b[0m         to \u001b[1;36m100000\u001b[0m                      \u001b[2m                    \u001b[0m\n",
      "\u001b[2;36m                   \u001b[0m\u001b[2;36m \u001b[0m\u001b[1;94mINFO    \u001b[0m Started ingesting index \u001b[1;36m0\u001b[0m to   \u001b]8;id=845117;file:///opt/conda/lib/python3.11/site-packages/sagemaker/feature_store/feature_group.py\u001b\\\u001b[2mfeature_group.py\u001b[0m\u001b]8;;\u001b\\\u001b[2m:\u001b[0m\u001b]8;id=663051;file:///opt/conda/lib/python3.11/site-packages/sagemaker/feature_store/feature_group.py#251\u001b\\\u001b[2m251\u001b[0m\u001b]8;;\u001b\\\n",
      "\u001b[2;36m                    \u001b[0m         \u001b[1;36m33334\u001b[0m                          \u001b[2m                    \u001b[0m\n",
      "\u001b[2;36m                   \u001b[0m\u001b[2;36m \u001b[0m\u001b[1;94mINFO    \u001b[0m Started ingesting index \u001b[1;36m33334\u001b[0m  \u001b]8;id=803908;file:///opt/conda/lib/python3.11/site-packages/sagemaker/feature_store/feature_group.py\u001b\\\u001b[2mfeature_group.py\u001b[0m\u001b]8;;\u001b\\\u001b[2m:\u001b[0m\u001b]8;id=904015;file:///opt/conda/lib/python3.11/site-packages/sagemaker/feature_store/feature_group.py#251\u001b\\\u001b[2m251\u001b[0m\u001b]8;;\u001b\\\n",
      "\u001b[2;36m                    \u001b[0m         to \u001b[1;36m66668\u001b[0m                       \u001b[2m                    \u001b[0m\n",
      "\u001b[2;36m[04/02/25 05:17:15]\u001b[0m\u001b[2;36m \u001b[0m\u001b[1;94mINFO    \u001b[0m Successfully ingested row      \u001b]8;id=736315;file:///opt/conda/lib/python3.11/site-packages/sagemaker/feature_store/feature_group.py\u001b\\\u001b[2mfeature_group.py\u001b[0m\u001b]8;;\u001b\\\u001b[2m:\u001b[0m\u001b]8;id=857811;file:///opt/conda/lib/python3.11/site-packages/sagemaker/feature_store/feature_group.py#578\u001b\\\u001b[2m578\u001b[0m\u001b]8;;\u001b\\\n",
      "\u001b[2;36m                    \u001b[0m         \u001b[1;36m66668\u001b[0m to \u001b[1;36m100000\u001b[0m                \u001b[2m                    \u001b[0m\n",
      "\u001b[2;36m[04/02/25 05:18:43]\u001b[0m\u001b[2;36m \u001b[0m\u001b[1;94mINFO    \u001b[0m Successfully ingested row      \u001b]8;id=486692;file:///opt/conda/lib/python3.11/site-packages/sagemaker/feature_store/feature_group.py\u001b\\\u001b[2mfeature_group.py\u001b[0m\u001b]8;;\u001b\\\u001b[2m:\u001b[0m\u001b]8;id=836584;file:///opt/conda/lib/python3.11/site-packages/sagemaker/feature_store/feature_group.py#578\u001b\\\u001b[2m578\u001b[0m\u001b]8;;\u001b\\\n",
      "\u001b[2;36m                    \u001b[0m         \u001b[1;36m33334\u001b[0m to \u001b[1;36m66668\u001b[0m                 \u001b[2m                    \u001b[0m\n",
      "\u001b[2;36m[04/02/25 05:18:55]\u001b[0m\u001b[2;36m \u001b[0m\u001b[1;94mINFO    \u001b[0m Successfully ingested row \u001b[1;36m0\u001b[0m to \u001b]8;id=548422;file:///opt/conda/lib/python3.11/site-packages/sagemaker/feature_store/feature_group.py\u001b\\\u001b[2mfeature_group.py\u001b[0m\u001b]8;;\u001b\\\u001b[2m:\u001b[0m\u001b]8;id=414914;file:///opt/conda/lib/python3.11/site-packages/sagemaker/feature_store/feature_group.py#578\u001b\\\u001b[2m578\u001b[0m\u001b]8;;\u001b\\\n",
      "\u001b[2;36m                    \u001b[0m         \u001b[1;36m33334\u001b[0m                          \u001b[2m                    \u001b[0m\n"
     ]
    },
    {
     "data": {
      "text/plain": [
       "IngestionManagerPandas(feature_group_name='orders-fg-02-04-57-46', feature_definitions={'order_id': {'FeatureName': 'order_id', 'FeatureType': 'String'}, 'customer_id': {'FeatureName': 'customer_id', 'FeatureType': 'String'}, 'product_id': {'FeatureName': 'product_id', 'FeatureType': 'String'}, 'purchase_amount': {'FeatureName': 'purchase_amount', 'FeatureType': 'Fractional'}, 'is_reordered': {'FeatureName': 'is_reordered', 'FeatureType': 'Integral'}, 'event_time': {'FeatureName': 'event_time', 'FeatureType': 'String'}, 'n_days_since_last_purchase': {'FeatureName': 'n_days_since_last_purchase', 'FeatureType': 'Fractional'}}, sagemaker_fs_runtime_client_config=<botocore.config.Config object at 0x7f434df27a50>, sagemaker_session=<sagemaker.session.Session object at 0x7f43506e6390>, max_workers=3, max_processes=1, profile_name=None, _async_result=<multiprocess.pool.MapResult object at 0x7f434cb9d350>, _processing_pool=<pool ProcessPool(ncpus=1)>, _failed_indices=[])"
      ]
     },
     "execution_count": 41,
     "metadata": {},
     "output_type": "execute_result"
    }
   ],
   "source": [
    "orders_feature_group.ingest(data_frame = orders_data, max_workers=3,wait=True)"
   ]
  },
  {
   "cell_type": "code",
   "execution_count": 42,
   "id": "e52e9e30-a505-4e8c-bad7-fdcbc83a52bb",
   "metadata": {},
   "outputs": [],
   "source": [
    "customer_id = \"C1\"\n",
    "sample_record = sagemaker_session.boto_session.client(\n",
    "    \"sagemaker-featurestore-runtime\", region_name=region\n",
    ").get_record(\n",
    "    FeatureGroupName=customers_feature_group_name, RecordIdentifierValueAsString=str(customer_id)\n",
    ")"
   ]
  },
  {
   "cell_type": "code",
   "execution_count": 43,
   "id": "8b6f463c-6665-4def-a604-2e0630083428",
   "metadata": {},
   "outputs": [
    {
     "data": {
      "text/plain": [
       "{'ResponseMetadata': {'RequestId': 'f6502a37-122c-4ca1-a5a7-9e4479e57ccb',\n",
       "  'HTTPStatusCode': 200,\n",
       "  'HTTPHeaders': {'x-amzn-requestid': 'f6502a37-122c-4ca1-a5a7-9e4479e57ccb',\n",
       "   'content-type': 'application/json',\n",
       "   'content-length': '877',\n",
       "   'date': 'Wed, 02 Apr 2025 05:19:31 GMT'},\n",
       "  'RetryAttempts': 0},\n",
       " 'Record': [{'FeatureName': 'customer_id', 'ValueAsString': 'C1'},\n",
       "  {'FeatureName': 'sex', 'ValueAsString': '0'},\n",
       "  {'FeatureName': 'is_married', 'ValueAsString': '1'},\n",
       "  {'FeatureName': 'event_time', 'ValueAsString': '2024-05-02T05:39:10.965Z'},\n",
       "  {'FeatureName': 'age_18-29', 'ValueAsString': '0'},\n",
       "  {'FeatureName': 'age_30-39', 'ValueAsString': '0'},\n",
       "  {'FeatureName': 'age_40-49', 'ValueAsString': '0'},\n",
       "  {'FeatureName': 'age_50-59', 'ValueAsString': '0'},\n",
       "  {'FeatureName': 'age_60-69', 'ValueAsString': '0'},\n",
       "  {'FeatureName': 'age_70-plus', 'ValueAsString': '1'},\n",
       "  {'FeatureName': 'n_days_active', 'ValueAsString': '0.2034246575342464'}]}"
      ]
     },
     "execution_count": 43,
     "metadata": {},
     "output_type": "execute_result"
    }
   ],
   "source": [
    "sample_record"
   ]
  },
  {
   "cell_type": "code",
   "execution_count": 44,
   "id": "abd25d04-a799-41a2-a7e5-64b48c7e26e7",
   "metadata": {},
   "outputs": [],
   "source": [
    "all_records = sagemaker_session.boto_session.client(\n",
    "    \"sagemaker-featurestore-runtime\", region_name=region\n",
    ").batch_get_record(\n",
    "    Identifiers=[\n",
    "        {\n",
    "            \"FeatureGroupName\": customers_feature_group_name,\n",
    "            \"RecordIdentifiersValueAsString\": [\"C1\",\"C2\"],\n",
    "        },\n",
    "        {\n",
    "            \"FeatureGroupName\": orders_feature_group_name,\n",
    "            \"RecordIdentifiersValueAsString\": [\"C1\",\"C2\"],\n",
    "        },\n",
    "    ]\n",
    ")"
   ]
  },
  {
   "cell_type": "code",
   "execution_count": 45,
   "id": "5f2f2380-c89a-4605-8617-315970711c3a",
   "metadata": {},
   "outputs": [
    {
     "data": {
      "text/plain": [
       "{'ResponseMetadata': {'RequestId': 'e06ce4de-ef79-4519-a938-226fffe5e3a3',\n",
       "  'HTTPStatusCode': 200,\n",
       "  'HTTPHeaders': {'x-amzn-requestid': 'e06ce4de-ef79-4519-a938-226fffe5e3a3',\n",
       "   'content-type': 'application/json',\n",
       "   'content-length': '3408',\n",
       "   'date': 'Wed, 02 Apr 2025 05:20:22 GMT'},\n",
       "  'RetryAttempts': 0},\n",
       " 'Records': [{'FeatureGroupName': 'customers-fg-02-04-57-46',\n",
       "   'RecordIdentifierValueAsString': 'C1',\n",
       "   'Record': [{'FeatureName': 'customer_id', 'ValueAsString': 'C1'},\n",
       "    {'FeatureName': 'sex', 'ValueAsString': '0'},\n",
       "    {'FeatureName': 'is_married', 'ValueAsString': '1'},\n",
       "    {'FeatureName': 'event_time', 'ValueAsString': '2024-05-02T05:39:10.965Z'},\n",
       "    {'FeatureName': 'age_18-29', 'ValueAsString': '0'},\n",
       "    {'FeatureName': 'age_30-39', 'ValueAsString': '0'},\n",
       "    {'FeatureName': 'age_40-49', 'ValueAsString': '0'},\n",
       "    {'FeatureName': 'age_50-59', 'ValueAsString': '0'},\n",
       "    {'FeatureName': 'age_60-69', 'ValueAsString': '0'},\n",
       "    {'FeatureName': 'age_70-plus', 'ValueAsString': '1'},\n",
       "    {'FeatureName': 'n_days_active', 'ValueAsString': '0.2034246575342464'}]},\n",
       "  {'FeatureGroupName': 'customers-fg-02-04-57-46',\n",
       "   'RecordIdentifierValueAsString': 'C2',\n",
       "   'Record': [{'FeatureName': 'customer_id', 'ValueAsString': 'C2'},\n",
       "    {'FeatureName': 'sex', 'ValueAsString': '1'},\n",
       "    {'FeatureName': 'is_married', 'ValueAsString': '1'},\n",
       "    {'FeatureName': 'event_time', 'ValueAsString': '2024-05-02T05:39:10.966Z'},\n",
       "    {'FeatureName': 'age_18-29', 'ValueAsString': '0'},\n",
       "    {'FeatureName': 'age_30-39', 'ValueAsString': '0'},\n",
       "    {'FeatureName': 'age_40-49', 'ValueAsString': '0'},\n",
       "    {'FeatureName': 'age_50-59', 'ValueAsString': '0'},\n",
       "    {'FeatureName': 'age_60-69', 'ValueAsString': '0'},\n",
       "    {'FeatureName': 'age_70-plus', 'ValueAsString': '1'},\n",
       "    {'FeatureName': 'n_days_active', 'ValueAsString': '0.8595890410958902'}]},\n",
       "  {'FeatureGroupName': 'orders-fg-02-04-57-46',\n",
       "   'RecordIdentifierValueAsString': 'C1',\n",
       "   'Record': [{'FeatureName': 'order_id', 'ValueAsString': 'O99056'},\n",
       "    {'FeatureName': 'customer_id', 'ValueAsString': 'C1'},\n",
       "    {'FeatureName': 'product_id', 'ValueAsString': 'P5567'},\n",
       "    {'FeatureName': 'purchase_amount', 'ValueAsString': '0.6516831683168316'},\n",
       "    {'FeatureName': 'is_reordered', 'ValueAsString': '1'},\n",
       "    {'FeatureName': 'event_time', 'ValueAsString': '2024-05-02T05:39:18.632Z'},\n",
       "    {'FeatureName': 'n_days_since_last_purchase',\n",
       "     'ValueAsString': '0.5484496124031009'}]},\n",
       "  {'FeatureGroupName': 'orders-fg-02-04-57-46',\n",
       "   'RecordIdentifierValueAsString': 'C2',\n",
       "   'Record': [{'FeatureName': 'order_id', 'ValueAsString': 'O69355'},\n",
       "    {'FeatureName': 'customer_id', 'ValueAsString': 'C2'},\n",
       "    {'FeatureName': 'product_id', 'ValueAsString': 'P7251'},\n",
       "    {'FeatureName': 'purchase_amount', 'ValueAsString': '0.921881188118812'},\n",
       "    {'FeatureName': 'is_reordered', 'ValueAsString': '1'},\n",
       "    {'FeatureName': 'event_time', 'ValueAsString': '2024-05-02T05:39:18.203Z'},\n",
       "    {'FeatureName': 'n_days_since_last_purchase',\n",
       "     'ValueAsString': '0.9593023255813952'}]}],\n",
       " 'Errors': [],\n",
       " 'UnprocessedIdentifiers': []}"
      ]
     },
     "execution_count": 45,
     "metadata": {},
     "output_type": "execute_result"
    }
   ],
   "source": [
    "all_records"
   ]
  },
  {
   "cell_type": "code",
   "execution_count": 46,
   "id": "ee4d48ed-35fe-4a7e-af0a-836e89f1215d",
   "metadata": {},
   "outputs": [
    {
     "data": {
      "text/plain": [
       "{'FeatureGroupArn': 'arn:aws:sagemaker:us-west-2:975050337104:feature-group/customers-fg-02-04-57-46',\n",
       " 'ResponseMetadata': {'RequestId': '599b0296-c59d-442a-a639-21bb9a303452',\n",
       "  'HTTPStatusCode': 200,\n",
       "  'HTTPHeaders': {'x-amzn-requestid': '599b0296-c59d-442a-a639-21bb9a303452',\n",
       "   'content-type': 'application/x-amz-json-1.1',\n",
       "   'content-length': '101',\n",
       "   'date': 'Wed, 02 Apr 2025 05:22:12 GMT'},\n",
       "  'RetryAttempts': 0}}"
      ]
     },
     "execution_count": 46,
     "metadata": {},
     "output_type": "execute_result"
    }
   ],
   "source": [
    "# Add features to feature group\n",
    "from sagemaker.feature_store.feature_definition import StringFeatureDefinition\n",
    "\n",
    "customers_feature_group.update(feature_additions=[StringFeatureDefinition(\"email\")])"
   ]
  },
  {
   "cell_type": "code",
   "execution_count": 54,
   "id": "1a363270-24d0-41cd-a738-a60245d62e7c",
   "metadata": {},
   "outputs": [
    {
     "data": {
      "text/plain": [
       "{'FeatureGroupArn': 'arn:aws:sagemaker:us-west-2:975050337104:feature-group/customers-fg-02-04-57-46',\n",
       " 'FeatureGroupName': 'customers-fg-02-04-57-46',\n",
       " 'RecordIdentifierFeatureName': 'customer_id',\n",
       " 'EventTimeFeatureName': 'event_time',\n",
       " 'FeatureDefinitions': [{'FeatureName': 'customer_id',\n",
       "   'FeatureType': 'String'},\n",
       "  {'FeatureName': 'sex', 'FeatureType': 'Integral'},\n",
       "  {'FeatureName': 'is_married', 'FeatureType': 'Integral'},\n",
       "  {'FeatureName': 'event_time', 'FeatureType': 'String'},\n",
       "  {'FeatureName': 'age_18-29', 'FeatureType': 'Integral'},\n",
       "  {'FeatureName': 'age_30-39', 'FeatureType': 'Integral'},\n",
       "  {'FeatureName': 'age_40-49', 'FeatureType': 'Integral'},\n",
       "  {'FeatureName': 'age_50-59', 'FeatureType': 'Integral'},\n",
       "  {'FeatureName': 'age_60-69', 'FeatureType': 'Integral'},\n",
       "  {'FeatureName': 'age_70-plus', 'FeatureType': 'Integral'},\n",
       "  {'FeatureName': 'n_days_active', 'FeatureType': 'Fractional'},\n",
       "  {'FeatureName': 'email', 'FeatureType': 'String'}],\n",
       " 'CreationTime': datetime.datetime(2025, 4, 2, 4, 57, 59, 208000, tzinfo=tzlocal()),\n",
       " 'LastModifiedTime': datetime.datetime(2025, 4, 2, 5, 22, 12, 963000, tzinfo=tzlocal()),\n",
       " 'OnlineStoreConfig': {'EnableOnlineStore': True},\n",
       " 'OfflineStoreConfig': {'S3StorageConfig': {'S3Uri': 's3://sagemaker-us-west-2-975050337104/aws-mlops-sagemaker',\n",
       "   'ResolvedOutputS3Uri': 's3://sagemaker-us-west-2-975050337104/aws-mlops-sagemaker/975050337104/sagemaker/us-west-2/offline-store/customers-fg-02-04-57-46-1743569879/data'},\n",
       "  'DisableGlueTableCreation': False,\n",
       "  'DataCatalogConfig': {'TableName': 'customers_fg_02_04_57_46_1743569879',\n",
       "   'Catalog': 'AwsDataCatalog',\n",
       "   'Database': 'sagemaker_featurestore'}},\n",
       " 'ThroughputConfig': {'ThroughputMode': 'OnDemand'},\n",
       " 'RoleArn': 'arn:aws:iam::975050337104:role/service-role/AmazonSageMaker-ExecutionRole-20250401T145569',\n",
       " 'FeatureGroupStatus': 'Created',\n",
       " 'OfflineStoreStatus': {'Status': 'Active'},\n",
       " 'LastUpdateStatus': {'Status': 'Successful'},\n",
       " 'OnlineStoreTotalSizeBytes': 0,\n",
       " 'ResponseMetadata': {'RequestId': '47d8ba45-4d8f-4bf1-a0c1-3143ab2a1c4b',\n",
       "  'HTTPStatusCode': 200,\n",
       "  'HTTPHeaders': {'x-amzn-requestid': '47d8ba45-4d8f-4bf1-a0c1-3143ab2a1c4b',\n",
       "   'content-type': 'application/x-amz-json-1.1',\n",
       "   'content-length': '2165',\n",
       "   'date': 'Wed, 02 Apr 2025 05:30:28 GMT'},\n",
       "  'RetryAttempts': 0}}"
      ]
     },
     "execution_count": 54,
     "metadata": {},
     "output_type": "execute_result"
    }
   ],
   "source": [
    "customers_feature_group.describe()"
   ]
  },
  {
   "cell_type": "code",
   "execution_count": 55,
   "id": "27ada56d-0432-46fc-963e-9a8f935abb2e",
   "metadata": {},
   "outputs": [],
   "source": [
    "customers_feature_group.delete()\n",
    "orders_feature_group.delete()"
   ]
  },
  {
   "cell_type": "code",
   "execution_count": null,
   "id": "50023a2d-668d-4d59-97ae-617b877b75f3",
   "metadata": {},
   "outputs": [],
   "source": []
  }
 ],
 "metadata": {
  "kernelspec": {
   "display_name": "Python 3 (ipykernel)",
   "language": "python",
   "name": "python3"
  },
  "language_info": {
   "codemirror_mode": {
    "name": "ipython",
    "version": 3
   },
   "file_extension": ".py",
   "mimetype": "text/x-python",
   "name": "python",
   "nbconvert_exporter": "python",
   "pygments_lexer": "ipython3",
   "version": "3.11.11"
  }
 },
 "nbformat": 4,
 "nbformat_minor": 5
}
